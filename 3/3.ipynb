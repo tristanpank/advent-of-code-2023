{
 "cells": [
  {
   "cell_type": "code",
   "execution_count": 1,
   "metadata": {},
   "outputs": [],
   "source": [
    "graph = []\n",
    "with open(\"3.txt\") as f:\n",
    "  for row in f.readlines():\n",
    "    graph.append(row.strip())\n"
   ]
  },
  {
   "cell_type": "code",
   "execution_count": 2,
   "metadata": {},
   "outputs": [
    {
     "data": {
      "text/plain": [
       "['467..114..',\n",
       " '...*......',\n",
       " '..35..633.',\n",
       " '......#...',\n",
       " '617*......',\n",
       " '.....+.58.',\n",
       " '..592.....',\n",
       " '......755.',\n",
       " '...$.*....',\n",
       " '.664.598..']"
      ]
     },
     "execution_count": 2,
     "metadata": {},
     "output_type": "execute_result"
    }
   ],
   "source": [
    "graph"
   ]
  },
  {
   "cell_type": "code",
   "execution_count": 3,
   "metadata": {},
   "outputs": [],
   "source": [
    "num_cords = set()\n",
    "for i in len(graph):\n",
    "  for j in len(graph[i]):\n",
    "    if graph[i][j].isdigit() or graph[i][j] == \".\":\n",
    "      continue\n",
    "\n",
    "    if i == 0 and j == 0:\n",
    "      if graph[i+1][j].isdigit():\n",
    "        num_cords.add((i+1, j))\n",
    "      if graph[i][j+1].isdigit():\n",
    "        num_cords.add((i, j+1))\n",
    "      if graph[i+1][j+1].isdigit():\n",
    "        num_cords.add((i+1, j+1))\n",
    "    if i == 0 and j != len(graph[i] - 1):\n",
    "      if graph[i+1][j].isdigit():\n",
    "        num_cords.add((i+1, j))\n",
    "      if graph[i][j+1].isdigit():\n",
    "        num_cords.add((i, j+1))\n",
    "      if graph[i+1][j+1].isdigit():\n",
    "        num_cords.add((i+1, j+1))\n",
    "      if graph[i][j-1].isdigit():\n",
    "        num_cords.add((i, j-1))\n",
    "    if j == 0 and i != len(graph - 1):\n",
    "      if graph[i+1][j].isdigit():\n",
    "        num_cords.add((i+1, j))\n",
    "      if graph[i][j+1].isdigit():\n",
    "        num_cords.add((i, j+1))\n",
    "      if graph[i+1][j+1].isdigit():\n",
    "        num_cords.add((i+1, j+1))\n",
    "      if graph[i-1][j].isdigit():\n",
    "        num_cords.add((i-1, j))\n",
    "    "
   ]
  },
  {
   "cell_type": "code",
   "execution_count": null,
   "metadata": {},
   "outputs": [],
   "source": []
  }
 ],
 "metadata": {
  "kernelspec": {
   "display_name": "Python 3",
   "language": "python",
   "name": "python3"
  },
  "language_info": {
   "codemirror_mode": {
    "name": "ipython",
    "version": 3
   },
   "file_extension": ".py",
   "mimetype": "text/x-python",
   "name": "python",
   "nbconvert_exporter": "python",
   "pygments_lexer": "ipython3",
   "version": "3.10.5"
  }
 },
 "nbformat": 4,
 "nbformat_minor": 2
}

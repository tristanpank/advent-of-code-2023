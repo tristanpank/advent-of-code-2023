{
 "cells": [
  {
   "cell_type": "code",
   "execution_count": 31,
   "metadata": {},
   "outputs": [],
   "source": [
    "rows = []\n",
    "with open(\"./2.txt\") as f:\n",
    "  for row in f.readlines():\n",
    "    rows.append(row.strip())"
   ]
  },
  {
   "cell_type": "code",
   "execution_count": 2,
   "metadata": {},
   "outputs": [
    {
     "data": {
      "text/plain": [
       "['Game 1: 3 blue, 4 red; 1 red, 2 green, 6 blue; 2 green',\n",
       " 'Game 2: 1 blue, 2 green; 3 green, 4 blue, 1 red; 1 green, 1 blue',\n",
       " 'Game 3: 8 green, 6 blue, 20 red; 5 blue, 4 red, 13 green; 5 green, 1 red',\n",
       " 'Game 4: 1 green, 3 red, 6 blue; 3 green, 6 red; 3 green, 15 blue, 14 red',\n",
       " 'Game 5: 6 red, 1 blue, 3 green; 2 blue, 1 red, 2 green']"
      ]
     },
     "execution_count": 2,
     "metadata": {},
     "output_type": "execute_result"
    }
   ],
   "source": [
    "rows"
   ]
  },
  {
   "cell_type": "code",
   "execution_count": 17,
   "metadata": {},
   "outputs": [],
   "source": [
    "def is_valid_game(game):\n",
    "  i = game.find(\":\")\n",
    "  game_num = game[5:i]\n",
    "  rounds = game[i+2:].split(\";\")\n",
    "  for r in rounds:\n",
    "    draws = r.split(\",\")\n",
    "    for draw in draws:\n",
    "      draw = draw.strip()\n",
    "      num = draw.split()[0]\n",
    "      color = draw.split()[1]\n",
    "      if color == \"blue\" and int(num) > 14:\n",
    "        return -1\n",
    "      elif color == \"green\" and int(num) > 13:\n",
    "        return -1\n",
    "      elif color == \"red\" and int(num) > 12:\n",
    "        return -1\n",
    "  return int(game_num)\n",
    "\n"
   ]
  },
  {
   "cell_type": "code",
   "execution_count": 21,
   "metadata": {},
   "outputs": [],
   "source": [
    "total = 0\n",
    "for row in rows:\n",
    "  num = is_valid_game(row)\n",
    "  if num != -1:\n",
    "    total += num"
   ]
  },
  {
   "cell_type": "code",
   "execution_count": 22,
   "metadata": {},
   "outputs": [
    {
     "data": {
      "text/plain": [
       "2447"
      ]
     },
     "execution_count": 22,
     "metadata": {},
     "output_type": "execute_result"
    }
   ],
   "source": [
    "total"
   ]
  },
  {
   "cell_type": "code",
   "execution_count": 26,
   "metadata": {},
   "outputs": [],
   "source": [
    "def calculate_power(game):\n",
    "  i = game.find(\":\")\n",
    "  game_num = game[5:i]\n",
    "  rounds = game[i+2:].split(\";\")\n",
    "  red, green, blue = 0, 0, 0\n",
    "  for r in rounds:\n",
    "    draws = r.split(\",\")\n",
    "    for draw in draws:\n",
    "      draw = draw.strip()\n",
    "      num = draw.split()[0]\n",
    "      color = draw.split()[1]\n",
    "      if color == \"blue\" and int(num) > blue:\n",
    "        blue = int(num)\n",
    "      elif color == \"green\" and int(num) > green:\n",
    "        green = int(num)\n",
    "      elif color == \"red\" and int(num) > red:\n",
    "        red = int(num)\n",
    "  print(red, green, blue)\n",
    "  return red * green * blue"
   ]
  },
  {
   "cell_type": "code",
   "execution_count": 32,
   "metadata": {},
   "outputs": [
    {
     "name": "stdout",
     "output_type": "stream",
     "text": [
      "10 7 4\n",
      "3 5 5\n",
      "12 3 3\n",
      "1 3 4\n",
      "4 8 20\n",
      "3 11 9\n",
      "1 5 5\n",
      "9 16 7\n",
      "4 7 14\n",
      "1 16 3\n",
      "8 10 15\n",
      "14 15 8\n",
      "5 6 10\n",
      "5 13 7\n",
      "13 16 8\n",
      "3 5 1\n",
      "5 3 8\n",
      "3 15 6\n",
      "6 5 7\n",
      "1 3 6\n",
      "4 16 1\n",
      "4 10 1\n",
      "2 1 14\n",
      "9 4 13\n",
      "11 14 1\n",
      "10 13 10\n",
      "8 10 6\n",
      "4 14 10\n",
      "15 6 9\n",
      "2 19 14\n",
      "10 12 15\n",
      "14 2 4\n",
      "16 10 15\n",
      "18 9 1\n",
      "13 19 4\n",
      "2 17 10\n",
      "11 11 8\n",
      "2 13 11\n",
      "17 5 4\n",
      "5 1 10\n",
      "5 7 11\n",
      "8 14 2\n",
      "15 16 5\n",
      "1 9 9\n",
      "5 5 9\n",
      "3 9 2\n",
      "15 10 6\n",
      "5 8 2\n",
      "6 5 5\n",
      "7 2 6\n",
      "6 7 8\n",
      "7 7 4\n",
      "5 5 12\n",
      "17 15 3\n",
      "11 11 7\n",
      "6 8 5\n",
      "3 2 5\n",
      "4 13 4\n",
      "20 4 18\n",
      "19 12 6\n",
      "7 12 18\n",
      "4 1 9\n",
      "17 10 9\n",
      "15 15 8\n",
      "10 8 7\n",
      "4 16 5\n",
      "6 7 12\n",
      "15 6 14\n",
      "15 19 3\n",
      "10 10 15\n",
      "13 2 1\n",
      "5 18 3\n",
      "17 4 7\n",
      "8 8 13\n",
      "3 5 7\n",
      "6 9 6\n",
      "6 4 2\n",
      "11 8 2\n",
      "13 8 4\n",
      "6 5 9\n",
      "3 2 17\n",
      "10 4 10\n",
      "4 14 15\n",
      "11 7 17\n",
      "17 5 13\n",
      "3 15 18\n",
      "9 6 1\n",
      "1 10 7\n",
      "5 6 5\n",
      "1 7 6\n",
      "8 14 9\n",
      "6 19 11\n",
      "5 8 14\n",
      "6 3 2\n",
      "10 18 3\n",
      "1 11 15\n",
      "3 5 3\n",
      "19 10 8\n",
      "9 16 14\n",
      "8 13 16\n"
     ]
    }
   ],
   "source": [
    "total = 0\n",
    "for row in rows:\n",
    "  total += calculate_power(row)"
   ]
  },
  {
   "cell_type": "code",
   "execution_count": 33,
   "metadata": {},
   "outputs": [
    {
     "data": {
      "text/plain": [
       "56322"
      ]
     },
     "execution_count": 33,
     "metadata": {},
     "output_type": "execute_result"
    }
   ],
   "source": [
    "total"
   ]
  },
  {
   "cell_type": "code",
   "execution_count": null,
   "metadata": {},
   "outputs": [],
   "source": []
  }
 ],
 "metadata": {
  "kernelspec": {
   "display_name": "Python 3",
   "language": "python",
   "name": "python3"
  },
  "language_info": {
   "codemirror_mode": {
    "name": "ipython",
    "version": 3
   },
   "file_extension": ".py",
   "mimetype": "text/x-python",
   "name": "python",
   "nbconvert_exporter": "python",
   "pygments_lexer": "ipython3",
   "version": "3.10.5"
  }
 },
 "nbformat": 4,
 "nbformat_minor": 2
}
